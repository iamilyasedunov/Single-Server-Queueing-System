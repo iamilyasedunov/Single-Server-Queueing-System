{
 "cells": [
  {
   "cell_type": "markdown",
   "metadata": {},
   "source": [
    "## <center>  Single-Server-Queueing-System-With-Limited-Capacity"
   ]
  },
  {
   "cell_type": "markdown",
   "metadata": {},
   "source": [
    "![lol](images/ProcessScheme.png)"
   ]
  },
  {
   "cell_type": "markdown",
   "metadata": {},
   "source": [
    "<center><h2>Математическая модель $M/M/1/N$</h2><br>\n",
    "<center> $N$ - размер очереди,<br>\n",
    "<center> $\\lambda$ - интенсивность входного потока,<br>\n",
    "<center> $\\mu$ - интенсивность обслуживания<br><br>\n",
    "    \n",
    "    \n",
    "<center><strong>Вероятностное пространство</strong> <br><br> $(\\Omega,\\mathcal{F},\\mathcal{P(\\bullet)})$, <i>где<br><br>\n",
    "    <center> $ \\mathcal{F=2^{\\Omega}}$ \n",
    "        <br><br>\n",
    "    \n",
    "    \n",
    "<center>$ \\Omega = \\{ \\omega = (\\omega_1, \\omega_2, \\omega_3,...) \\} $, где <br><br>\n",
    "<center><i> $  \\omega_i \\in \\{0, 1, 2,\\cdots,N \\} $ - состояние системы (кол-во требований в системе) <br>  \n",
    "     в i-тый момент изменения системы <br><br><br>\n",
    " \n",
    "<center> $ P(\\omega_{i+1} = \\xi_{i+1} | \\omega_{i} = \\xi_{i}, \\omega_{i-1} = \\xi_{i-1}, ... , \\omega_{1} = \\xi_{1}) =  P(\\omega_{i+1} = \\xi_{i+1} | \\omega_{i} = \\xi_{i})$<br><br>\n",
    "\n",
    "<center> $ P(\\omega_{i+1} = 1 | \\omega_{i} = 0) = 1 $ <br>\n",
    "<center> $ P(\\omega_{i+1} = N - 1 | \\omega_{i} = N) = 1 $ <br>\n",
    "<center> $ P(\\omega_{i+1} = a + 1 | \\omega_{i} = a) = \\frac{\\lambda}{\\lambda + \\mu}, \\space 0 < a < N $<br>\n",
    "<center> $ P(\\omega_{i+1} = a - 1| \\omega_{i} = a) = \\frac{\\mu}{\\lambda + \\mu},  \\space 0 < a < N  $ <br><br><br>\n",
    "\n",
    "\n",
    "<center> <strong>Так как:</strong> </center><br>\n",
    "<center> Пусть   $ X \\sim exp(\\lambda)$,  $ Y \\sim exp(\\mu) $<br><br>\n",
    "<center> Тогда   $ P(X<Y) = \\int_{0}^{\\infty}P(X<y)f_y(y)dy = $<br><br>\n",
    "<center> $ =  \\int_{0}^{\\infty}(1 - e^{-\\lambda y})\\mu e^{-\\mu y}dy = $<br><br>\n",
    "<center> $ =  \\mu\\int_{0}^{\\infty}(1 - e^{-\\lambda y})dy - \\mu \\int_{0}^{\\infty}e^{-(\\lambda + \\mu) y}dy = $<br><br>\n",
    "<center> $ =  - \\int_{0}^{\\infty}(1 - e^{-\\mu y})d( - \\mu y) -\n",
    "                \\frac{\\mu}{\\mu + \\lambda} \\int_{0}^{\\infty}e^{-(\\lambda + \\mu) y}dy = $<br><br>\n",
    "<center>$ = 1 - \\frac{\\mu}{\\lambda + \\mu} = \\frac{\\lambda}{\\lambda + \\mu}$.<br><br><br>   \n",
    "    \n",
    "    \n",
    "\n",
    "    \n",
    "    \n",
    "<center> <strong>Зададим случайные величины</strong><br><br>\n",
    "<center> $ X_0 = 0  \\space \\space \\space \\space \\space \\space  X_i(\\omega) =\\omega_i $<br><br>\n",
    "    \n",
    "<center> $ P(X_{i+1} = x_{i+1} | X_{i} = x_{i}, X_{i-1} = x_{i-1}, ... , X_{1} = x_{1}, X_{0} = x_{0}) =  P(X_{i+1} = x_{i+1} | X_{i} = x_{i})$<br><br>\n",
    "<center> $P_0 (X_0 = 0) = 1 $ "
   ]
  },
  {
   "cell_type": "markdown",
   "metadata": {},
   "source": [
    "![lol](images/Pmatrix.svg)"
   ]
  },
  {
   "cell_type": "markdown",
   "metadata": {},
   "source": [
    "## <center> Схема состояний"
   ]
  },
  {
   "cell_type": "markdown",
   "metadata": {},
   "source": [
    "![lol](images/StateSchemes.png)"
   ]
  },
  {
   "cell_type": "markdown",
   "metadata": {},
   "source": [
    "### <center>Уравнения баланса <i>(RateIn = RateOut)\n",
    "$0: p_1 \\mu = p_0 \\lambda$<br>\n",
    "$1: p_0 \\lambda + p_2 \\mu = p_1 \\lambda + p_1 \\mu$<br>\n",
    "$2: p_1 \\mu = p_0 \\lambda$<br>\n",
    "$ \\cdots$<br>\n",
    "$N-1: p_{N-2}  \\lambda + p_N \\mu = p_{N-1}(\\lambda + \\mu) $ <br>\n",
    "$N: p_{N-1}  \\lambda  =  p_{N} \\mu $ <br> \n",
    "<br>  \n",
    "$p_i = (\\frac{\\lambda}{\\mu})^{i} p_0$\n",
    "<h3>$ \\Sigma_{i=0}^{N} p_i = 1 $<br><br>\n",
    "$ \\Sigma_{i=0}^{N} (\\frac{\\lambda}{\\mu})^{i} p_0 = 1 $</h3>"
   ]
  },
  {
   "cell_type": "markdown",
   "metadata": {},
   "source": [
    "<h2><center>Получаем<br><br>$ p_0 = \\frac {1}{\\Sigma_{i=0}^{N} (\\frac{\\lambda}{\\mu})^{i}} = \\frac{1 - \\frac{\\lambda}{\\mu}}{1 - \\frac{\\lambda}{\\mu}^{N+1}} $ <br><br>\n",
    "    $ p_i = (\\frac{\\lambda}{\\mu})^{i} \\frac{1 - \\frac{\\lambda}{\\mu}}{1 - (\\frac{\\lambda}{\\mu})^{N+1}} , \\space \\space \\forall i = \\overline{0, N} $ "
   ]
  },
  {
   "cell_type": "markdown",
   "metadata": {},
   "source": [
    "<h3><center> 1. Вероятность отказа требованию </center><br><br></h3>\n",
    "    <center><i><b>Вероятность отказа равна вероятности пребывания системы в состоянии N <br><br>\n",
    "<h3><center>$P_n = (\\frac{\\lambda}{\\mu})^N \\frac{1 - \\frac{\\lambda}{\\mu}}{1 - (\\frac{\\lambda}{\\mu})^{N+1}} $\n",
    "    </center></h3>"
   ]
  },
  {
   "cell_type": "markdown",
   "metadata": {},
   "source": [
    "<h3><center> 2.Среднее количество требований в системе <br></center></h3>\n",
    "<center> <br>\n",
    "     <i>пусть $\\rho = \\frac{\\lambda}{\\mu}$ <br><br>\n",
    "    $ E(X) = \\Sigma_{i=0}^{N} i P_i \n",
    "    =  \\Sigma_{i=0}^{N} i \\frac{ 1- \\rho}{1 - \\rho^{N+1}} \\rho^i = $ <br><br>\n",
    "    $ = \\frac{ 1- \\rho}{1 - \\rho^{N+1}}\\rho \\Sigma_{i=0}^{N} \\frac{d}{d \\rho}  (\\rho^i) \n",
    "    = \\frac{ 1- \\rho}{1 - \\rho^{N+1}}\\rho  \\frac{d}{d \\rho} (\\Sigma_{i=0}^{N} \\rho^i) = $  <br><br>\n",
    "    $ = \\frac{ 1- \\rho}{1 - \\rho^{N+1}}\\rho  \\frac{d}{d \\rho} (\\frac{ 1- \\rho^{N+1}}{1 - \\rho})  \n",
    "    = \\frac{ 1- \\rho}{1 - \\rho^{N+1}}\\rho  \\frac{ -N \\rho^{N-1} +N \\rho^N - \\rho^N + 1}{(1 - \\rho)^2}  = $<br><br>\n",
    "    $ = \\rho\\frac{ -(N+1) \\rho^{N} + N \\rho^{N+1} + 1}{(1 - \\rho^{N+1})(1 - \\rho)} \n",
    "    = \\frac{ \\rho}{1 - \\rho} - \\frac{ (N+1) \\rho^{N+1}}{1 - \\rho^{N+1}}.$<br><br>\n",
    "</center>"
   ]
  },
  {
   "cell_type": "markdown",
   "metadata": {},
   "source": [
    "<h3><center> 3. Среднее время пребывания одного требования в системе </center></h3><br>"
   ]
  },
  {
   "cell_type": "markdown",
   "metadata": {},
   "source": [
    "![lol](images/LittlesLaw.png)"
   ]
  },
  {
   "cell_type": "markdown",
   "metadata": {},
   "source": [
    "<center>$ \\frac{\\Sigma W_i}{\\Delta t} = \\frac{N_t}{\\Delta t} \\frac{\\Sigma W_i}{N_t}  \\Rightarrow E(X)= \\bar{\\lambda} E(T)$, <i>где<br><br> $ \\bar{\\lambda}  = \\lambda(1 - P_n)$,  т.к. очередь ограниченной длины  <br><br></center></h3>\n",
    "<i>Получаем, что среднее время пребывания в системе = среднее кол-во требований в системе / интенсивность входного потока (Закон Литтла)<br>\n",
    "    <center><strong>Следовательно</strong>, $E(T) =\\frac{1}{\\bar{\\lambda}}E(X) =\\frac{1}{\\lambda(1 - P_n)} ( \\frac{ \\rho}{1 - \\rho} - \\frac{ (N+1) \\rho^{N+1}}{1 - \\rho^{N+1}}). $\n",
    "    </center>"
   ]
  },
  {
   "cell_type": "markdown",
   "metadata": {},
   "source": [
    "<h3><center> 4. Вероятность ожидания требования </center><br><br></h3>\n",
    "    <center><i><b>Вероятность ожидания требования равна тому, что в системе находится как минимум 1 требование <br><br>\n",
    "<h3><center>$P_{wait} =1 - P_0 = 1 -  \\frac{1 - \\frac{\\lambda}{\\mu}}{1 - (\\frac{\\lambda}{\\mu})^{N+1}} $\n",
    "    </center></h3>"
   ]
  }
 ],
 "metadata": {
  "kernelspec": {
   "display_name": "Python 3",
   "language": "python",
   "name": "python3"
  },
  "language_info": {
   "codemirror_mode": {
    "name": "ipython",
    "version": 3
   },
   "file_extension": ".py",
   "mimetype": "text/x-python",
   "name": "python",
   "nbconvert_exporter": "python",
   "pygments_lexer": "ipython3",
   "version": "3.7.4"
  }
 },
 "nbformat": 4,
 "nbformat_minor": 2
}
